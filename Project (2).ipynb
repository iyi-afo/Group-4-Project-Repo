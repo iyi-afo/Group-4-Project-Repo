{
 "cells": [
  {
   "cell_type": "markdown",
   "id": "c3cdcb03-7fa6-4c55-b161-c3418c91a3ed",
   "metadata": {},
   "source": [
    "### Data Extraction"
   ]
  },
  {
   "cell_type": "code",
   "execution_count": 3,
   "id": "3e207a05-9df1-42d9-bfdb-b109af035b6a",
   "metadata": {},
   "outputs": [],
   "source": [
    "file_path = \"student_performance.csv\"\n",
    "def Extract():\n",
    "    SP = pd.read_csv(file_path)\n",
    "    return SP"
   ]
  },
  {
   "cell_type": "markdown",
   "id": "ac854a58-5f84-4e5e-844c-24063869076b",
   "metadata": {},
   "source": [
    "### Data Transformation"
   ]
  },
  {
   "cell_type": "code",
   "execution_count": 12,
   "id": "88243463-addb-46fc-a354-cf0fbfd3c96e",
   "metadata": {},
   "outputs": [],
   "source": [
    "def transform(SP):\n",
    "     \n",
    "    SP = SP.rename(columns = {\"Assignment_Completion_Rate (%)\": \"Assignment_Completion_Rate\", \"Exam_Score (%)\": \"Exam_Score\", \"Attendance_Rate (%)\":\"Attendance_Rate\"})\n",
    "    \n",
    "    \"\"\"def GPA_Scale(Final_Grade):\n",
    "        if Final_Grade == \"A\":\n",
    "            return 4.0\n",
    "        elif Final_Grade == \"B\":\n",
    "            return 3.0\n",
    "        elif Final_Grade == \"C\":\n",
    "            return 2.0\n",
    "        elif Final_Grade == \"D\":\n",
    "            return 1.0\n",
    "        else :\n",
    "            return 0.0\"\"\"\n",
    "    \n",
    "    SP['CGPA'] = SP['Final_Grade'].apply(GPA_Scale)\n",
    "    \n",
    "    #Here I converted Assignment_Completion_Rate to 30%\n",
    "    SP['Assignment_Completion_Rate'] = SP['Assignment_Completion_Rate'] * 0.3\n",
    "    \n",
    "    #Here I converted Exam_Score to 70%\n",
    "    SP['Exam_Score'] = SP['Exam_Score'] * 0.7\n",
    "    \n",
    "    #I Added ['Assignment_Completion_Rate'] + ['Exam_Score'] to give 100% for Mastery_Score\n",
    "    SP['Mastery_Score'] = SP['Assignment_Completion_Rate'] + SP['Exam_Score']\n",
    "    return SP\n"
   ]
  },
  {
   "cell_type": "markdown",
   "id": "178d9ad5-ce10-4373-827c-0efa37f01397",
   "metadata": {},
   "source": [
    "### Data Loading"
   ]
  },
  {
   "cell_type": "code",
   "execution_count": 15,
   "id": "f81336d3-42bc-47b2-aeaf-e23a9baa5036",
   "metadata": {},
   "outputs": [],
   "source": [
    "def Load(SP):\n",
    "\n",
    "    Connection = psycopg2.connect(\n",
    "    host = \"localhost\",\n",
    "    dbname = \"ETL_project\",\n",
    "    user = \"postgres\",\n",
    "    password = \"Holycenter@123\"\n",
    "    )\n",
    "    \n",
    "    con = Connection.cursor()\n",
    "    for _, row in SP.iterrows():\n",
    "        con.execute(\"\"\"\n",
    "        INSERT INTO Performance(\n",
    "        Student_ID, Age, Gender, Study_Hours_per_Week, Preferred_Learning_Style, Online_Courses_Completed, Participation_in_Discussions,\n",
    "        Assignment_Completion_Rate,Exam_Score, Attendance_Rate, Use_of_Educational_Tech,\n",
    "        Self_Reported_Stress_Level, Time_Spent_on_Social_Media, Sleep_Hours_per_Night, Final_Grade, CGPA, Mastery_Score)\n",
    "        VALUES(%s, %s, %s, %s, %s, %s, %s,%s, %s, %s, %s, %s, %s, %s,%s, %s, %s) \"\"\", tuple(row)\n",
    "               )\n",
    "    Connection.commit()\n",
    "    con.close()\n",
    "    Connection.close()\n",
    "\n",
    "if __name__ == \"__main__\":\n",
    "    raw_data = Extract()\n",
    "    clean_data = transform(raw_data)\n",
    "    Load(clean_data)"
   ]
  },
  {
   "cell_type": "code",
   "execution_count": 16,
   "id": "13351790-1948-452f-ae24-6ecf8e80ead0",
   "metadata": {},
   "outputs": [],
   "source": [
    "SP.to_csv(\"SP_cleaned.csv\", index = False)"
   ]
  },
  {
   "cell_type": "code",
   "execution_count": null,
   "id": "4ddd2114-3660-4338-b403-c8290569104c",
   "metadata": {},
   "outputs": [],
   "source": []
  }
 ],
 "metadata": {
  "kernelspec": {
   "display_name": "Python 3 (ipykernel)",
   "language": "python",
   "name": "python3"
  },
  "language_info": {
   "codemirror_mode": {
    "name": "ipython",
    "version": 3
   },
   "file_extension": ".py",
   "mimetype": "text/x-python",
   "name": "python",
   "nbconvert_exporter": "python",
   "pygments_lexer": "ipython3",
   "version": "3.13.5"
  }
 },
 "nbformat": 4,
 "nbformat_minor": 5
}
